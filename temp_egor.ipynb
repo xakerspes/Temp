{
 "cells": [
  {
   "cell_type": "code",
   "execution_count": 13,
   "metadata": {},
   "outputs": [],
   "source": [
    "import urllib.request\n",
    "import numpy as np\n",
    "import pandas as pd\n",
    "from datetime import datetime,timedelta\n",
    "width = 13\n",
    "vstat = \"http://amk030.imces.ru/meteodata/AMK_030_BIN/2019/10_2019/10010008.19B\"\n",
    "page = urllib.request.urlopen(vstat)\n",
    "content = page.read()"
   ]
  },
  {
   "cell_type": "code",
   "execution_count": 14,
   "metadata": {},
   "outputs": [],
   "source": [
    "def qwe():\n",
    "    width = 13\n",
    "    vstat = \"http://amk030.imces.ru/meteodata/AMK_030_BIN/2019/10_2019/10010008.19B\"\n",
    "    page = urllib.request.urlopen(vstat)\n",
    "    content = page.read()\n",
    "    data_dopolnitelniy = np.frombuffer(content[:17], dtype=np.dtype('i1'))\n",
    "    data_dopolnitelniy = np.frombuffer(data_dopolnitelniy[:16], dtype=np.dtype('i2'))\n",
    "    date_temp = data_dopolnitelniy[:-1]\n",
    "    date_time = datetime(*date_temp).strftime(\"%d.%m.%Y %H:%M:%S.%f\")\n",
    "    numpy_data_polojitelnie = np.frombuffer(content, dtype=np.dtype('B'))[17:-14]\n",
    "    numpy_data_polojitelnie = numpy_data_polojitelnie.reshape(int(len(numpy_data_polojitelnie) / width), width)\n",
    "    numpy_data_polojitelnie  = np.delete(numpy_data_polojitelnie,12,1)\n",
    "    numpy_data_polojitelnie = np.frombuffer(numpy_data_polojitelnie, dtype=np.dtype('i2'))\n",
    "    numpy_data_polojitelnie = numpy_data_polojitelnie.reshape(int(len(numpy_data_polojitelnie)/6),6)\n",
    "    row = numpy_data_polojitelnie.shape[0]\n",
    "    column = numpy_data_polojitelnie.shape[1] + 2\n",
    "    zero = np.zeros((row,1))\n",
    "    massiv = np.append(zero,numpy_data_polojitelnie,axis=1) \n",
    "    numpy_data_polojitelnie = np.append(massiv,zero,axis=1)\n",
    "\n",
    "    data_frame1 = pd.DataFrame(numpy_data_polojitelnie)\n",
    "\n",
    "    data_frame1.head()\n",
    "    for i in range(len(numpy_data_polojitelnie)):\n",
    "    #     numpy_data_polojitelnie[i,0] = numpy_data_polojitelnie[i,0] // 100\n",
    "        numpy_data_polojitelnie[i,1] = numpy_data_polojitelnie[i,1] / 100\n",
    "        numpy_data_polojitelnie[i,2] = numpy_data_polojitelnie[i,2] / 100\n",
    "        numpy_data_polojitelnie[i,3] = numpy_data_polojitelnie[i,3] / 100\n",
    "        numpy_data_polojitelnie[i,4] = numpy_data_polojitelnie[i,4] / 100\n",
    "        numpy_data_polojitelnie[i,5] = numpy_data_polojitelnie[i,5] / 10\n",
    "        numpy_data_polojitelnie[i,6] = numpy_data_polojitelnie[i,6] / 100\n",
    "\n",
    "    dft = pd.DataFrame((numpy_data_polojitelnie), columns=[\n",
    "        'A','A','A','A','A','A','A','A'],index=pd.date_range(\n",
    "        date_time, periods=len(numpy_data_polojitelnie), freq='12.5ms'))\n",
    "    dft.rename_axis(\"limbs\", axis=\"columns\")\n",
    "    dft.columns.name = 'date and time'\n",
    "    dft.head()\n",
    "    return dft\n",
    "    "
   ]
  },
  {
   "cell_type": "code",
   "execution_count": 15,
   "metadata": {},
   "outputs": [],
   "source": [
    "# %time qwe()"
   ]
  },
  {
   "cell_type": "code",
   "execution_count": 16,
   "metadata": {
    "scrolled": false
   },
   "outputs": [
    {
     "data": {
      "text/html": [
       "<div>\n",
       "<style scoped>\n",
       "    .dataframe tbody tr th:only-of-type {\n",
       "        vertical-align: middle;\n",
       "    }\n",
       "\n",
       "    .dataframe tbody tr th {\n",
       "        vertical-align: top;\n",
       "    }\n",
       "\n",
       "    .dataframe thead th {\n",
       "        text-align: right;\n",
       "    }\n",
       "</style>\n",
       "<table border=\"1\" class=\"dataframe\">\n",
       "  <thead>\n",
       "    <tr style=\"text-align: right;\">\n",
       "      <th></th>\n",
       "      <th>0</th>\n",
       "      <th>1</th>\n",
       "      <th>2</th>\n",
       "      <th>3</th>\n",
       "      <th>4</th>\n",
       "      <th>5</th>\n",
       "      <th>6</th>\n",
       "      <th>7</th>\n",
       "    </tr>\n",
       "  </thead>\n",
       "  <tbody>\n",
       "    <tr>\n",
       "      <th>0</th>\n",
       "      <td>0.0</td>\n",
       "      <td>233.0</td>\n",
       "      <td>-184.0</td>\n",
       "      <td>-126.0</td>\n",
       "      <td>115.0</td>\n",
       "      <td>7437.0</td>\n",
       "      <td>9343.0</td>\n",
       "      <td>0.0</td>\n",
       "    </tr>\n",
       "    <tr>\n",
       "      <th>1</th>\n",
       "      <td>0.0</td>\n",
       "      <td>242.0</td>\n",
       "      <td>-188.0</td>\n",
       "      <td>-122.0</td>\n",
       "      <td>102.0</td>\n",
       "      <td>7438.0</td>\n",
       "      <td>9344.0</td>\n",
       "      <td>0.0</td>\n",
       "    </tr>\n",
       "    <tr>\n",
       "      <th>2</th>\n",
       "      <td>0.0</td>\n",
       "      <td>232.0</td>\n",
       "      <td>-178.0</td>\n",
       "      <td>-103.0</td>\n",
       "      <td>81.0</td>\n",
       "      <td>7437.0</td>\n",
       "      <td>9343.0</td>\n",
       "      <td>0.0</td>\n",
       "    </tr>\n",
       "    <tr>\n",
       "      <th>3</th>\n",
       "      <td>0.0</td>\n",
       "      <td>237.0</td>\n",
       "      <td>-172.0</td>\n",
       "      <td>-105.0</td>\n",
       "      <td>71.0</td>\n",
       "      <td>7437.0</td>\n",
       "      <td>9344.0</td>\n",
       "      <td>0.0</td>\n",
       "    </tr>\n",
       "    <tr>\n",
       "      <th>4</th>\n",
       "      <td>0.0</td>\n",
       "      <td>237.0</td>\n",
       "      <td>-172.0</td>\n",
       "      <td>-101.0</td>\n",
       "      <td>58.0</td>\n",
       "      <td>7437.0</td>\n",
       "      <td>9344.0</td>\n",
       "      <td>0.0</td>\n",
       "    </tr>\n",
       "  </tbody>\n",
       "</table>\n",
       "</div>"
      ],
      "text/plain": [
       "     0      1      2      3      4       5       6    7\n",
       "0  0.0  233.0 -184.0 -126.0  115.0  7437.0  9343.0  0.0\n",
       "1  0.0  242.0 -188.0 -122.0  102.0  7438.0  9344.0  0.0\n",
       "2  0.0  232.0 -178.0 -103.0   81.0  7437.0  9343.0  0.0\n",
       "3  0.0  237.0 -172.0 -105.0   71.0  7437.0  9344.0  0.0\n",
       "4  0.0  237.0 -172.0 -101.0   58.0  7437.0  9344.0  0.0"
      ]
     },
     "execution_count": 16,
     "metadata": {},
     "output_type": "execute_result"
    }
   ],
   "source": [
    "data_dopolnitelniy = np.frombuffer(content[:17], dtype=np.dtype('i1'))\n",
    "data_dopolnitelniy = np.frombuffer(data_dopolnitelniy[:16], dtype=np.dtype('i2'))\n",
    "date_temp = data_dopolnitelniy[:-1]\n",
    "date_time = datetime(*date_temp).strftime(\"%d.%m.%Y %H:%M:%S.%f\")\n",
    "numpy_data_polojitelnie = np.frombuffer(content, dtype=np.dtype('B'))[17:-14]\n",
    "numpy_data_polojitelnie = numpy_data_polojitelnie.reshape(int(len(numpy_data_polojitelnie) / width), width)\n",
    "numpy_data_polojitelnie  = np.delete(numpy_data_polojitelnie,12,1)\n",
    "numpy_data_polojitelnie = np.frombuffer(numpy_data_polojitelnie, dtype=np.dtype('i2'))\n",
    "numpy_data_polojitelnie = numpy_data_polojitelnie.reshape(int(len(numpy_data_polojitelnie)/6),6)\n",
    "row = numpy_data_polojitelnie.shape[0]\n",
    "column = numpy_data_polojitelnie.shape[1] + 2\n",
    "zero = np.zeros((row,1))\n",
    "massiv = np.append(zero,numpy_data_polojitelnie,axis=1) \n",
    "numpy_data_polojitelnie = np.append(massiv,zero,axis=1)\n",
    "\n",
    "data_frame1 = pd.DataFrame(numpy_data_polojitelnie)\n",
    "\n",
    "data_frame1.head()"
   ]
  },
  {
   "cell_type": "code",
   "execution_count": null,
   "metadata": {},
   "outputs": [],
   "source": []
  },
  {
   "cell_type": "code",
   "execution_count": 17,
   "metadata": {},
   "outputs": [
    {
     "data": {
      "text/html": [
       "<div>\n",
       "<style scoped>\n",
       "    .dataframe tbody tr th:only-of-type {\n",
       "        vertical-align: middle;\n",
       "    }\n",
       "\n",
       "    .dataframe tbody tr th {\n",
       "        vertical-align: top;\n",
       "    }\n",
       "\n",
       "    .dataframe thead th {\n",
       "        text-align: right;\n",
       "    }\n",
       "</style>\n",
       "<table border=\"1\" class=\"dataframe\">\n",
       "  <thead>\n",
       "    <tr style=\"text-align: right;\">\n",
       "      <th>date and time</th>\n",
       "      <th>A</th>\n",
       "      <th>A</th>\n",
       "      <th>A</th>\n",
       "      <th>A</th>\n",
       "      <th>A</th>\n",
       "      <th>A</th>\n",
       "      <th>A</th>\n",
       "      <th>A</th>\n",
       "    </tr>\n",
       "  </thead>\n",
       "  <tbody>\n",
       "    <tr>\n",
       "      <th>2019-01-10 00:08:14.000343</th>\n",
       "      <td>0.0</td>\n",
       "      <td>2.33</td>\n",
       "      <td>-1.84</td>\n",
       "      <td>-1.26</td>\n",
       "      <td>1.15</td>\n",
       "      <td>743.7</td>\n",
       "      <td>93.43</td>\n",
       "      <td>0.0</td>\n",
       "    </tr>\n",
       "    <tr>\n",
       "      <th>2019-01-10 00:08:14.012843</th>\n",
       "      <td>0.0</td>\n",
       "      <td>2.42</td>\n",
       "      <td>-1.88</td>\n",
       "      <td>-1.22</td>\n",
       "      <td>1.02</td>\n",
       "      <td>743.8</td>\n",
       "      <td>93.44</td>\n",
       "      <td>0.0</td>\n",
       "    </tr>\n",
       "    <tr>\n",
       "      <th>2019-01-10 00:08:14.025343</th>\n",
       "      <td>0.0</td>\n",
       "      <td>2.32</td>\n",
       "      <td>-1.78</td>\n",
       "      <td>-1.03</td>\n",
       "      <td>0.81</td>\n",
       "      <td>743.7</td>\n",
       "      <td>93.43</td>\n",
       "      <td>0.0</td>\n",
       "    </tr>\n",
       "    <tr>\n",
       "      <th>2019-01-10 00:08:14.037843</th>\n",
       "      <td>0.0</td>\n",
       "      <td>2.37</td>\n",
       "      <td>-1.72</td>\n",
       "      <td>-1.05</td>\n",
       "      <td>0.71</td>\n",
       "      <td>743.7</td>\n",
       "      <td>93.44</td>\n",
       "      <td>0.0</td>\n",
       "    </tr>\n",
       "    <tr>\n",
       "      <th>2019-01-10 00:08:14.050343</th>\n",
       "      <td>0.0</td>\n",
       "      <td>2.37</td>\n",
       "      <td>-1.72</td>\n",
       "      <td>-1.01</td>\n",
       "      <td>0.58</td>\n",
       "      <td>743.7</td>\n",
       "      <td>93.44</td>\n",
       "      <td>0.0</td>\n",
       "    </tr>\n",
       "  </tbody>\n",
       "</table>\n",
       "</div>"
      ],
      "text/plain": [
       "date and time                 A     A     A     A     A      A      A    A\n",
       "2019-01-10 00:08:14.000343  0.0  2.33 -1.84 -1.26  1.15  743.7  93.43  0.0\n",
       "2019-01-10 00:08:14.012843  0.0  2.42 -1.88 -1.22  1.02  743.8  93.44  0.0\n",
       "2019-01-10 00:08:14.025343  0.0  2.32 -1.78 -1.03  0.81  743.7  93.43  0.0\n",
       "2019-01-10 00:08:14.037843  0.0  2.37 -1.72 -1.05  0.71  743.7  93.44  0.0\n",
       "2019-01-10 00:08:14.050343  0.0  2.37 -1.72 -1.01  0.58  743.7  93.44  0.0"
      ]
     },
     "execution_count": 17,
     "metadata": {},
     "output_type": "execute_result"
    }
   ],
   "source": [
    "for i in range(len(numpy_data_polojitelnie)):\n",
    "#     numpy_data_polojitelnie[i,0] = numpy_data_polojitelnie[i,0] // 100\n",
    "    numpy_data_polojitelnie[i,1] = numpy_data_polojitelnie[i,1] / 100\n",
    "    numpy_data_polojitelnie[i,2] = numpy_data_polojitelnie[i,2] / 100\n",
    "    numpy_data_polojitelnie[i,3] = numpy_data_polojitelnie[i,3] / 100\n",
    "    numpy_data_polojitelnie[i,4] = numpy_data_polojitelnie[i,4] / 100\n",
    "    numpy_data_polojitelnie[i,5] = numpy_data_polojitelnie[i,5] / 10\n",
    "    numpy_data_polojitelnie[i,6] = numpy_data_polojitelnie[i,6] / 100\n",
    "\n",
    "dft = pd.DataFrame((numpy_data_polojitelnie), columns=[\n",
    "    'A','A','A','A','A','A','A','A'],index=pd.date_range(\n",
    "    date_time, periods=len(numpy_data_polojitelnie), freq='12.5ms'))\n",
    "dft.rename_axis(\"limbs\", axis=\"columns\")\n",
    "dft.columns.name = 'date and time'\n",
    "dft.head()\n"
   ]
  },
  {
   "cell_type": "code",
   "execution_count": 18,
   "metadata": {},
   "outputs": [
    {
     "data": {
      "text/plain": [
       "'01.10.2019 00:08:14.000343'"
      ]
     },
     "execution_count": 18,
     "metadata": {},
     "output_type": "execute_result"
    }
   ],
   "source": [
    "date_time"
   ]
  },
  {
   "cell_type": "code",
   "execution_count": 23,
   "metadata": {},
   "outputs": [
    {
     "name": "stderr",
     "output_type": "stream",
     "text": [
      "F:\\Users\\Apple\\Anaconda3\\lib\\site-packages\\ipykernel_launcher.py:3: DeprecationWarning: in the future the special handling of scalars will be removed from insert and raise an error\n",
      "  This is separate from the ipykernel package so we can avoid doing imports until\n"
     ]
    },
    {
     "ename": "ValueError",
     "evalue": "assignment to 0-d array",
     "output_type": "error",
     "traceback": [
      "\u001b[1;31m---------------------------------------------------------------------------\u001b[0m",
      "\u001b[1;31mValueError\u001b[0m                                Traceback (most recent call last)",
      "\u001b[1;32m<ipython-input-23-3c97ae6ead83>\u001b[0m in \u001b[0;36m<module>\u001b[1;34m\u001b[0m\n\u001b[0;32m      1\u001b[0m \u001b[1;32mimport\u001b[0m \u001b[0mpandas\u001b[0m \u001b[1;32mas\u001b[0m \u001b[0mpd\u001b[0m\u001b[1;33m\u001b[0m\u001b[1;33m\u001b[0m\u001b[0m\n\u001b[0;32m      2\u001b[0m \u001b[0mdatelist\u001b[0m \u001b[1;33m=\u001b[0m \u001b[0mpd\u001b[0m\u001b[1;33m.\u001b[0m\u001b[0mdate_range\u001b[0m\u001b[1;33m(\u001b[0m\u001b[0mdate_time\u001b[0m\u001b[1;33m,\u001b[0m \u001b[0mperiods\u001b[0m\u001b[1;33m=\u001b[0m\u001b[0mlen\u001b[0m\u001b[1;33m(\u001b[0m\u001b[0mnumpy_data_polojitelnie\u001b[0m\u001b[1;33m)\u001b[0m\u001b[1;33m,\u001b[0m \u001b[0mfreq\u001b[0m\u001b[1;33m=\u001b[0m\u001b[1;34m'12.5ms'\u001b[0m\u001b[1;33m)\u001b[0m\u001b[1;33m.\u001b[0m\u001b[0mto_pydatetime\u001b[0m\u001b[1;33m(\u001b[0m\u001b[1;33m)\u001b[0m\u001b[1;33m\u001b[0m\u001b[1;33m\u001b[0m\u001b[0m\n\u001b[1;32m----> 3\u001b[1;33m \u001b[0mnp\u001b[0m\u001b[1;33m.\u001b[0m\u001b[0minsert\u001b[0m\u001b[1;33m(\u001b[0m\u001b[0ma\u001b[0m\u001b[1;33m,\u001b[0m \u001b[1;33m[\u001b[0m\u001b[1;36m1\u001b[0m\u001b[1;33m]\u001b[0m\u001b[1;33m,\u001b[0m \u001b[1;33m[\u001b[0m\u001b[1;33m[\u001b[0m\u001b[1;36m1\u001b[0m\u001b[1;33m]\u001b[0m\u001b[1;33m,\u001b[0m\u001b[1;33m[\u001b[0m\u001b[1;36m2\u001b[0m\u001b[1;33m]\u001b[0m\u001b[1;33m,\u001b[0m\u001b[1;33m[\u001b[0m\u001b[1;36m3\u001b[0m\u001b[1;33m]\u001b[0m\u001b[1;33m]\u001b[0m\u001b[1;33m,\u001b[0m \u001b[0maxis\u001b[0m\u001b[1;33m=\u001b[0m\u001b[1;36m1\u001b[0m\u001b[1;33m)\u001b[0m\u001b[1;33m\u001b[0m\u001b[1;33m\u001b[0m\u001b[0m\n\u001b[0m",
      "\u001b[1;32mF:\\Users\\Apple\\Anaconda3\\lib\\site-packages\\numpy\\lib\\function_base.py\u001b[0m in \u001b[0;36minsert\u001b[1;34m(arr, obj, values, axis)\u001b[0m\n\u001b[0;32m   4538\u001b[0m             \"from insert and raise an error\", DeprecationWarning, stacklevel=2)\n\u001b[0;32m   4539\u001b[0m         \u001b[0marr\u001b[0m \u001b[1;33m=\u001b[0m \u001b[0marr\u001b[0m\u001b[1;33m.\u001b[0m\u001b[0mcopy\u001b[0m\u001b[1;33m(\u001b[0m\u001b[0morder\u001b[0m\u001b[1;33m=\u001b[0m\u001b[0marrorder\u001b[0m\u001b[1;33m)\u001b[0m\u001b[1;33m\u001b[0m\u001b[1;33m\u001b[0m\u001b[0m\n\u001b[1;32m-> 4540\u001b[1;33m         \u001b[0marr\u001b[0m\u001b[1;33m[\u001b[0m\u001b[1;33m...\u001b[0m\u001b[1;33m]\u001b[0m \u001b[1;33m=\u001b[0m \u001b[0mvalues\u001b[0m\u001b[1;33m\u001b[0m\u001b[1;33m\u001b[0m\u001b[0m\n\u001b[0m\u001b[0;32m   4541\u001b[0m         \u001b[1;32mif\u001b[0m \u001b[0mwrap\u001b[0m\u001b[1;33m:\u001b[0m\u001b[1;33m\u001b[0m\u001b[1;33m\u001b[0m\u001b[0m\n\u001b[0;32m   4542\u001b[0m             \u001b[1;32mreturn\u001b[0m \u001b[0mwrap\u001b[0m\u001b[1;33m(\u001b[0m\u001b[0marr\u001b[0m\u001b[1;33m)\u001b[0m\u001b[1;33m\u001b[0m\u001b[1;33m\u001b[0m\u001b[0m\n",
      "\u001b[1;31mValueError\u001b[0m: assignment to 0-d array"
     ]
    }
   ],
   "source": [
    "import pandas as pd\n",
    "datelist = pd.date_range(date_time, periods=len(numpy_data_polojitelnie), freq='12.5ms').to_pydatetime()\n",
    "np.insert(a, [1], [[1],[2],[3]], axis=1)"
   ]
  },
  {
   "cell_type": "code",
   "execution_count": 7,
   "metadata": {},
   "outputs": [
    {
     "name": "stdout",
     "output_type": "stream",
     "text": [
      "0 12;12;12;12;12;12;12    12;12;12;12;12;12;12\n",
      "Name: 0, dtype: object\n",
      "1 12;12;12;12;12;12;12    12;12;12;12;12;12;12\n",
      "Name: 1, dtype: object\n"
     ]
    }
   ],
   "source": [
    "import pandas as pd\n",
    "distance_array = []\n",
    "for x in range(1,2):\n",
    "    a=str(x) + \".csv\"\n",
    "    df = pd.read_csv(a, error_bad_lines=False, nrows=2)\n",
    "    for index, row in df.iterrows():\n",
    "        distance_array.append(x)\n",
    "        print(index,row)\n",
    "# print(sum(distance_array)/len(distance_array))"
   ]
  },
  {
   "cell_type": "code",
   "execution_count": null,
   "metadata": {},
   "outputs": [],
   "source": []
  }
 ],
 "metadata": {
  "kernelspec": {
   "display_name": "Python 3",
   "language": "python",
   "name": "python3"
  },
  "language_info": {
   "codemirror_mode": {
    "name": "ipython",
    "version": 3
   },
   "file_extension": ".py",
   "mimetype": "text/x-python",
   "name": "python",
   "nbconvert_exporter": "python",
   "pygments_lexer": "ipython3",
   "version": "3.7.3"
  }
 },
 "nbformat": 4,
 "nbformat_minor": 2
}
